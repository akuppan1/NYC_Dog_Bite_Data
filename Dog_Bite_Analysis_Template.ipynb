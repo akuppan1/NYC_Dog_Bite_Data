{
 "cells": [
  {
   "cell_type": "code",
   "execution_count": 111,
   "metadata": {},
   "outputs": [],
   "source": [
    "import pandas as pd\n",
    "import matplotlib.pyplot as plt\n",
    "import numpy as np\n",
    "import seaborn as sns\n",
    "import plotly.express as px"
   ]
  },
  {
   "cell_type": "code",
   "execution_count": 112,
   "metadata": {},
   "outputs": [],
   "source": [
    "year = 2021"
   ]
  },
  {
   "cell_type": "code",
   "execution_count": 113,
   "metadata": {},
   "outputs": [],
   "source": [
    "df_dog_bites = pd.read_csv('DOHMH_Dog_Bite_Data.csv')"
   ]
  },
  {
   "cell_type": "code",
   "execution_count": 114,
   "metadata": {},
   "outputs": [
    {
     "data": {
      "text/html": [
       "<div>\n",
       "<style scoped>\n",
       "    .dataframe tbody tr th:only-of-type {\n",
       "        vertical-align: middle;\n",
       "    }\n",
       "\n",
       "    .dataframe tbody tr th {\n",
       "        vertical-align: top;\n",
       "    }\n",
       "\n",
       "    .dataframe thead th {\n",
       "        text-align: right;\n",
       "    }\n",
       "</style>\n",
       "<table border=\"1\" class=\"dataframe\">\n",
       "  <thead>\n",
       "    <tr style=\"text-align: right;\">\n",
       "      <th></th>\n",
       "      <th>UniqueID</th>\n",
       "      <th>DateOfBite</th>\n",
       "      <th>Species</th>\n",
       "      <th>Breed</th>\n",
       "      <th>Age</th>\n",
       "      <th>Gender</th>\n",
       "      <th>SpayNeuter</th>\n",
       "      <th>Borough</th>\n",
       "      <th>ZipCode</th>\n",
       "    </tr>\n",
       "  </thead>\n",
       "  <tbody>\n",
       "    <tr>\n",
       "      <th>0</th>\n",
       "      <td>1</td>\n",
       "      <td>January 01 2018</td>\n",
       "      <td>DOG</td>\n",
       "      <td>UNKNOWN</td>\n",
       "      <td>NaN</td>\n",
       "      <td>U</td>\n",
       "      <td>False</td>\n",
       "      <td>Brooklyn</td>\n",
       "      <td>11220</td>\n",
       "    </tr>\n",
       "    <tr>\n",
       "      <th>1</th>\n",
       "      <td>2</td>\n",
       "      <td>January 04 2018</td>\n",
       "      <td>DOG</td>\n",
       "      <td>UNKNOWN</td>\n",
       "      <td>NaN</td>\n",
       "      <td>U</td>\n",
       "      <td>False</td>\n",
       "      <td>Brooklyn</td>\n",
       "      <td>NaN</td>\n",
       "    </tr>\n",
       "    <tr>\n",
       "      <th>2</th>\n",
       "      <td>3</td>\n",
       "      <td>January 06 2018</td>\n",
       "      <td>DOG</td>\n",
       "      <td>Pit Bull</td>\n",
       "      <td>NaN</td>\n",
       "      <td>U</td>\n",
       "      <td>False</td>\n",
       "      <td>Brooklyn</td>\n",
       "      <td>11224</td>\n",
       "    </tr>\n",
       "    <tr>\n",
       "      <th>3</th>\n",
       "      <td>4</td>\n",
       "      <td>January 08 2018</td>\n",
       "      <td>DOG</td>\n",
       "      <td>Mixed/Other</td>\n",
       "      <td>4</td>\n",
       "      <td>M</td>\n",
       "      <td>False</td>\n",
       "      <td>Brooklyn</td>\n",
       "      <td>11231</td>\n",
       "    </tr>\n",
       "    <tr>\n",
       "      <th>4</th>\n",
       "      <td>5</td>\n",
       "      <td>January 09 2018</td>\n",
       "      <td>DOG</td>\n",
       "      <td>Pit Bull</td>\n",
       "      <td>NaN</td>\n",
       "      <td>U</td>\n",
       "      <td>False</td>\n",
       "      <td>Brooklyn</td>\n",
       "      <td>11224</td>\n",
       "    </tr>\n",
       "    <tr>\n",
       "      <th>...</th>\n",
       "      <td>...</td>\n",
       "      <td>...</td>\n",
       "      <td>...</td>\n",
       "      <td>...</td>\n",
       "      <td>...</td>\n",
       "      <td>...</td>\n",
       "      <td>...</td>\n",
       "      <td>...</td>\n",
       "      <td>...</td>\n",
       "    </tr>\n",
       "    <tr>\n",
       "      <th>22658</th>\n",
       "      <td>10276</td>\n",
       "      <td>December 24 2017</td>\n",
       "      <td>DOG</td>\n",
       "      <td>CHIWEENIE MIX</td>\n",
       "      <td>7</td>\n",
       "      <td>M</td>\n",
       "      <td>True</td>\n",
       "      <td>Staten Island</td>\n",
       "      <td>10303</td>\n",
       "    </tr>\n",
       "    <tr>\n",
       "      <th>22659</th>\n",
       "      <td>10277</td>\n",
       "      <td>December 24 2017</td>\n",
       "      <td>DOG</td>\n",
       "      <td>DUNKER</td>\n",
       "      <td>5</td>\n",
       "      <td>F</td>\n",
       "      <td>True</td>\n",
       "      <td>Staten Island</td>\n",
       "      <td>10303</td>\n",
       "    </tr>\n",
       "    <tr>\n",
       "      <th>22660</th>\n",
       "      <td>10278</td>\n",
       "      <td>December 21 2017</td>\n",
       "      <td>DOG</td>\n",
       "      <td>Schnauzer, Miniature</td>\n",
       "      <td>10M</td>\n",
       "      <td>M</td>\n",
       "      <td>True</td>\n",
       "      <td>Staten Island</td>\n",
       "      <td>10312</td>\n",
       "    </tr>\n",
       "    <tr>\n",
       "      <th>22661</th>\n",
       "      <td>10279</td>\n",
       "      <td>December 28 2017</td>\n",
       "      <td>DOG</td>\n",
       "      <td>Mixed/Other</td>\n",
       "      <td>NaN</td>\n",
       "      <td>F</td>\n",
       "      <td>False</td>\n",
       "      <td>Staten Island</td>\n",
       "      <td>10308</td>\n",
       "    </tr>\n",
       "    <tr>\n",
       "      <th>22662</th>\n",
       "      <td>10280</td>\n",
       "      <td>December 29 2017</td>\n",
       "      <td>DOG</td>\n",
       "      <td>BOXER/PIT BULL</td>\n",
       "      <td>NaN</td>\n",
       "      <td>M</td>\n",
       "      <td>False</td>\n",
       "      <td>Staten Island</td>\n",
       "      <td>10314</td>\n",
       "    </tr>\n",
       "  </tbody>\n",
       "</table>\n",
       "<p>22663 rows × 9 columns</p>\n",
       "</div>"
      ],
      "text/plain": [
       "       UniqueID        DateOfBite Species                 Breed  Age Gender  \\\n",
       "0             1   January 01 2018     DOG               UNKNOWN  NaN      U   \n",
       "1             2   January 04 2018     DOG               UNKNOWN  NaN      U   \n",
       "2             3   January 06 2018     DOG              Pit Bull  NaN      U   \n",
       "3             4   January 08 2018     DOG           Mixed/Other    4      M   \n",
       "4             5   January 09 2018     DOG              Pit Bull  NaN      U   \n",
       "...         ...               ...     ...                   ...  ...    ...   \n",
       "22658     10276  December 24 2017     DOG         CHIWEENIE MIX    7      M   \n",
       "22659     10277  December 24 2017     DOG                DUNKER    5      F   \n",
       "22660     10278  December 21 2017     DOG  Schnauzer, Miniature  10M      M   \n",
       "22661     10279  December 28 2017     DOG           Mixed/Other  NaN      F   \n",
       "22662     10280  December 29 2017     DOG        BOXER/PIT BULL  NaN      M   \n",
       "\n",
       "       SpayNeuter        Borough ZipCode  \n",
       "0           False       Brooklyn   11220  \n",
       "1           False       Brooklyn     NaN  \n",
       "2           False       Brooklyn   11224  \n",
       "3           False       Brooklyn   11231  \n",
       "4           False       Brooklyn   11224  \n",
       "...           ...            ...     ...  \n",
       "22658        True  Staten Island   10303  \n",
       "22659        True  Staten Island   10303  \n",
       "22660        True  Staten Island   10312  \n",
       "22661       False  Staten Island   10308  \n",
       "22662       False  Staten Island   10314  \n",
       "\n",
       "[22663 rows x 9 columns]"
      ]
     },
     "execution_count": 114,
     "metadata": {},
     "output_type": "execute_result"
    }
   ],
   "source": [
    "df_dog_bites"
   ]
  },
  {
   "cell_type": "code",
   "execution_count": 115,
   "metadata": {},
   "outputs": [
    {
     "data": {
      "text/plain": [
       "Queens           5773\n",
       "Manhattan        5270\n",
       "Brooklyn         4985\n",
       "Bronx            3782\n",
       "Staten Island    1872\n",
       "Other             981\n",
       "Name: Borough, dtype: int64"
      ]
     },
     "execution_count": 115,
     "metadata": {},
     "output_type": "execute_result"
    }
   ],
   "source": [
    "df_dog_bites['Borough'].value_counts()"
   ]
  },
  {
   "cell_type": "code",
   "execution_count": 116,
   "metadata": {},
   "outputs": [],
   "source": [
    "df_dog_bites = df_dog_bites[df_dog_bites['DateOfBite'].str.contains(f'{year}')]"
   ]
  },
  {
   "cell_type": "code",
   "execution_count": 117,
   "metadata": {},
   "outputs": [
    {
     "data": {
      "text/html": [
       "<div>\n",
       "<style scoped>\n",
       "    .dataframe tbody tr th:only-of-type {\n",
       "        vertical-align: middle;\n",
       "    }\n",
       "\n",
       "    .dataframe tbody tr th {\n",
       "        vertical-align: top;\n",
       "    }\n",
       "\n",
       "    .dataframe thead th {\n",
       "        text-align: right;\n",
       "    }\n",
       "</style>\n",
       "<table border=\"1\" class=\"dataframe\">\n",
       "  <thead>\n",
       "    <tr style=\"text-align: right;\">\n",
       "      <th></th>\n",
       "      <th>UniqueID</th>\n",
       "      <th>DateOfBite</th>\n",
       "      <th>Species</th>\n",
       "      <th>Breed</th>\n",
       "      <th>Age</th>\n",
       "      <th>Gender</th>\n",
       "      <th>SpayNeuter</th>\n",
       "      <th>Borough</th>\n",
       "      <th>ZipCode</th>\n",
       "    </tr>\n",
       "  </thead>\n",
       "  <tbody>\n",
       "    <tr>\n",
       "      <th>2048</th>\n",
       "      <td>2049</td>\n",
       "      <td>January 03 2021</td>\n",
       "      <td>DOG</td>\n",
       "      <td>FRENCH BULL DOG &amp; PIT BULL X</td>\n",
       "      <td>4</td>\n",
       "      <td>F</td>\n",
       "      <td>False</td>\n",
       "      <td>Brooklyn</td>\n",
       "      <td>11210</td>\n",
       "    </tr>\n",
       "    <tr>\n",
       "      <th>2050</th>\n",
       "      <td>2051</td>\n",
       "      <td>January 02 2021</td>\n",
       "      <td>DOG</td>\n",
       "      <td>UNKNOWN</td>\n",
       "      <td>NaN</td>\n",
       "      <td>U</td>\n",
       "      <td>False</td>\n",
       "      <td>Brooklyn</td>\n",
       "      <td>NaN</td>\n",
       "    </tr>\n",
       "    <tr>\n",
       "      <th>2051</th>\n",
       "      <td>2052</td>\n",
       "      <td>January 05 2021</td>\n",
       "      <td>DOG</td>\n",
       "      <td>Rhodesian Ridgeback</td>\n",
       "      <td>10</td>\n",
       "      <td>M</td>\n",
       "      <td>False</td>\n",
       "      <td>Brooklyn</td>\n",
       "      <td>11222</td>\n",
       "    </tr>\n",
       "    <tr>\n",
       "      <th>2054</th>\n",
       "      <td>2055</td>\n",
       "      <td>January 01 2021</td>\n",
       "      <td>DOG</td>\n",
       "      <td>MIXED BREED</td>\n",
       "      <td>5</td>\n",
       "      <td>F</td>\n",
       "      <td>False</td>\n",
       "      <td>Brooklyn</td>\n",
       "      <td>11228</td>\n",
       "    </tr>\n",
       "    <tr>\n",
       "      <th>2055</th>\n",
       "      <td>2056</td>\n",
       "      <td>January 03 2021</td>\n",
       "      <td>DOG</td>\n",
       "      <td>MIXED</td>\n",
       "      <td>5</td>\n",
       "      <td>M</td>\n",
       "      <td>True</td>\n",
       "      <td>Brooklyn</td>\n",
       "      <td>11232</td>\n",
       "    </tr>\n",
       "    <tr>\n",
       "      <th>...</th>\n",
       "      <td>...</td>\n",
       "      <td>...</td>\n",
       "      <td>...</td>\n",
       "      <td>...</td>\n",
       "      <td>...</td>\n",
       "      <td>...</td>\n",
       "      <td>...</td>\n",
       "      <td>...</td>\n",
       "      <td>...</td>\n",
       "    </tr>\n",
       "    <tr>\n",
       "      <th>12378</th>\n",
       "      <td>12379</td>\n",
       "      <td>December 13 2021</td>\n",
       "      <td>DOG</td>\n",
       "      <td>German Shepherd</td>\n",
       "      <td>2Y</td>\n",
       "      <td>M</td>\n",
       "      <td>False</td>\n",
       "      <td>Staten Island</td>\n",
       "      <td>10314</td>\n",
       "    </tr>\n",
       "    <tr>\n",
       "      <th>12379</th>\n",
       "      <td>12380</td>\n",
       "      <td>November 05 2021</td>\n",
       "      <td>DOG</td>\n",
       "      <td>Pit Bull</td>\n",
       "      <td>4Y</td>\n",
       "      <td>M</td>\n",
       "      <td>True</td>\n",
       "      <td>Staten Island</td>\n",
       "      <td>10309</td>\n",
       "    </tr>\n",
       "    <tr>\n",
       "      <th>12380</th>\n",
       "      <td>12381</td>\n",
       "      <td>December 24 2021</td>\n",
       "      <td>DOG</td>\n",
       "      <td>MIXED BREED DOG</td>\n",
       "      <td>8Y</td>\n",
       "      <td>M</td>\n",
       "      <td>False</td>\n",
       "      <td>Staten Island</td>\n",
       "      <td>10304</td>\n",
       "    </tr>\n",
       "    <tr>\n",
       "      <th>12381</th>\n",
       "      <td>12382</td>\n",
       "      <td>December 28 2021</td>\n",
       "      <td>DOG</td>\n",
       "      <td>MIXED BREED</td>\n",
       "      <td>NaN</td>\n",
       "      <td>U</td>\n",
       "      <td>False</td>\n",
       "      <td>Staten Island</td>\n",
       "      <td>10304</td>\n",
       "    </tr>\n",
       "    <tr>\n",
       "      <th>12382</th>\n",
       "      <td>12383</td>\n",
       "      <td>August 19 2021</td>\n",
       "      <td>DOG</td>\n",
       "      <td>Yorkshire Terrier Crossbreed</td>\n",
       "      <td>11</td>\n",
       "      <td>M</td>\n",
       "      <td>True</td>\n",
       "      <td>Staten Island</td>\n",
       "      <td>10306</td>\n",
       "    </tr>\n",
       "  </tbody>\n",
       "</table>\n",
       "<p>2921 rows × 9 columns</p>\n",
       "</div>"
      ],
      "text/plain": [
       "       UniqueID        DateOfBite Species                         Breed  Age  \\\n",
       "2048       2049   January 03 2021     DOG  FRENCH BULL DOG & PIT BULL X    4   \n",
       "2050       2051   January 02 2021     DOG                       UNKNOWN  NaN   \n",
       "2051       2052   January 05 2021     DOG           Rhodesian Ridgeback   10   \n",
       "2054       2055   January 01 2021     DOG                   MIXED BREED    5   \n",
       "2055       2056   January 03 2021     DOG                         MIXED    5   \n",
       "...         ...               ...     ...                           ...  ...   \n",
       "12378     12379  December 13 2021     DOG               German Shepherd   2Y   \n",
       "12379     12380  November 05 2021     DOG                      Pit Bull   4Y   \n",
       "12380     12381  December 24 2021     DOG               MIXED BREED DOG   8Y   \n",
       "12381     12382  December 28 2021     DOG                   MIXED BREED  NaN   \n",
       "12382     12383    August 19 2021     DOG  Yorkshire Terrier Crossbreed   11   \n",
       "\n",
       "      Gender  SpayNeuter        Borough ZipCode  \n",
       "2048       F       False       Brooklyn   11210  \n",
       "2050       U       False       Brooklyn     NaN  \n",
       "2051       M       False       Brooklyn   11222  \n",
       "2054       F       False       Brooklyn   11228  \n",
       "2055       M        True       Brooklyn   11232  \n",
       "...      ...         ...            ...     ...  \n",
       "12378      M       False  Staten Island   10314  \n",
       "12379      M        True  Staten Island   10309  \n",
       "12380      M       False  Staten Island   10304  \n",
       "12381      U       False  Staten Island   10304  \n",
       "12382      M        True  Staten Island   10306  \n",
       "\n",
       "[2921 rows x 9 columns]"
      ]
     },
     "execution_count": 117,
     "metadata": {},
     "output_type": "execute_result"
    }
   ],
   "source": [
    "df_dog_bites"
   ]
  },
  {
   "cell_type": "code",
   "execution_count": 118,
   "metadata": {},
   "outputs": [
    {
     "data": {
      "text/plain": [
       "Queens           842\n",
       "Manhattan        681\n",
       "Brooklyn         646\n",
       "Bronx            411\n",
       "Staten Island    208\n",
       "Other            133\n",
       "Name: Borough, dtype: int64"
      ]
     },
     "execution_count": 118,
     "metadata": {},
     "output_type": "execute_result"
    }
   ],
   "source": [
    "df_dog_bites.Borough.value_counts()"
   ]
  },
  {
   "cell_type": "code",
   "execution_count": 119,
   "metadata": {},
   "outputs": [
    {
     "data": {
      "text/plain": [
       "<AxesSubplot:title={'center':'DOG BITE OCCURENCES PER BOROUGH IN YEAR 2021'}>"
      ]
     },
     "execution_count": 119,
     "metadata": {},
     "output_type": "execute_result"
    },
    {
     "data": {
      "image/png": "[encoded data removed]",
      "text/plain": [
       "<Figure size 432x288 with 1 Axes>"
      ]
     },
     "metadata": {
      "needs_background": "light"
     },
     "output_type": "display_data"
    }
   ],
   "source": [
    "df_dog_bites.Borough.value_counts().plot(kind='bar', title=f'DOG BITE OCCURENCES PER BOROUGH IN YEAR {year}')"
   ]
  },
  {
   "cell_type": "code",
   "execution_count": 120,
   "metadata": {},
   "outputs": [
    {
     "data": {
      "text/plain": [
       "10029    35\n",
       "10065    33\n",
       "11208    31\n",
       "10463    30\n",
       "11373    28\n",
       "11207    28\n",
       "11368    28\n",
       "11209    27\n",
       "10128    27\n",
       "11234    27\n",
       "Name: ZipCode, dtype: int64"
      ]
     },
     "execution_count": 120,
     "metadata": {},
     "output_type": "execute_result"
    }
   ],
   "source": [
    "df_dog_bites.ZipCode.value_counts().nlargest(n=10)"
   ]
  },
  {
   "cell_type": "code",
   "execution_count": 121,
   "metadata": {},
   "outputs": [
    {
     "data": {
      "text/plain": [
       "June 18 2021        20\n",
       "August 15 2021      19\n",
       "June 20 2021        17\n",
       "November 03 2021    17\n",
       "May 20 2021         17\n",
       "April 16 2021       16\n",
       "July 24 2021        16\n",
       "August 28 2021      16\n",
       "July 22 2021        16\n",
       "July 08 2021        16\n",
       "Name: DateOfBite, dtype: int64"
      ]
     },
     "execution_count": 121,
     "metadata": {},
     "output_type": "execute_result"
    }
   ],
   "source": [
    "df_dog_bites['DateOfBite'].value_counts().nlargest(n=10)"
   ]
  },
  {
   "cell_type": "code",
   "execution_count": 122,
   "metadata": {},
   "outputs": [
    {
     "data": {
      "text/plain": [
       "UNKNOWN              781\n",
       "Pit Bull             521\n",
       "MIXED                112\n",
       "German Shepherd       85\n",
       "Shih Tzu              58\n",
       "Chihuahua             56\n",
       "Rottweiler            53\n",
       "Yorkshire Terrier     46\n",
       "Maltese               41\n",
       "MIXED BREED           38\n",
       "Name: Breed, dtype: int64"
      ]
     },
     "execution_count": 122,
     "metadata": {},
     "output_type": "execute_result"
    }
   ],
   "source": [
    "df_dog_bites.Breed.value_counts().nlargest(n=10)"
   ]
  },
  {
   "cell_type": "code",
   "execution_count": null,
   "metadata": {},
   "outputs": [],
   "source": []
  }
 ],
 "metadata": {
  "kernelspec": {
   "display_name": "Python 3",
   "language": "python",
   "name": "python3"
  },
  "language_info": {
   "codemirror_mode": {
    "name": "ipython",
    "version": 3
   },
   "file_extension": ".py",
   "mimetype": "text/x-python",
   "name": "python",
   "nbconvert_exporter": "python",
   "pygments_lexer": "ipython3",
   "version": "3.8.5"
  }
 },
 "nbformat": 4,
 "nbformat_minor": 4
}
